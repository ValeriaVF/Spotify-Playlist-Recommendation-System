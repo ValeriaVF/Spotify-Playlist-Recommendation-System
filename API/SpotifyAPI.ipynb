{
 "cells": [
  {
   "cell_type": "markdown",
   "metadata": {},
   "source": [
    "# Extracting Data from Spotify API"
   ]
  },
  {
   "cell_type": "code",
   "execution_count": null,
   "metadata": {},
   "outputs": [],
   "source": [
    "#import spotipy\n",
    "#from spotipy.oauth2 import SpotifyClientCredentials"
   ]
  },
  {
   "cell_type": "code",
   "execution_count": null,
   "metadata": {},
   "outputs": [],
   "source": [
    "# Setting environement variables\n",
    "# https://www.youtube.com/watch?v=YdgIWTYQ69A\n",
    "\n",
    "#from dotenv import load_dotenv\n",
    "#import os\n",
    "\n",
    "#load_dotenv()\n",
    "\n",
    "#cid = os.getenv(\"cid\")\n",
    "#secret = os.getenv(\"secret\")"
   ]
  },
  {
   "cell_type": "code",
   "execution_count": null,
   "metadata": {},
   "outputs": [],
   "source": [
    "#Authentication \n",
    "#client_credentials_manager = SpotifyClientCredentials(client_id=cid, client_secret=secret)\n",
    "#sp = spotipy.Spotify(client_credentials_manager = client_credentials_manager)"
   ]
  },
  {
   "cell_type": "markdown",
   "metadata": {},
   "source": [
    "# Fetching Spotify Tracks\n",
    "We'll extract "
   ]
  },
  {
   "cell_type": "code",
   "execution_count": 1,
   "metadata": {},
   "outputs": [],
   "source": [
    "# Importing modules\n",
    "import sys\n",
    "sys.path.append(\"../spotify_api_web_app\")\n",
    "\n",
    "import authorization\n",
    "import pandas as pd\n",
    "from tqdm import tqdm\n",
    "import time\n",
    "import requests\n",
    "\n",
    "sp = authorization.authorize()"
   ]
  },
  {
   "cell_type": "code",
   "execution_count": 2,
   "metadata": {},
   "outputs": [],
   "source": [
    "# Fetching genres\n",
    "genres = sp.recommendation_genre_seeds()\n",
    "\n",
    "# We are only able to extract 100 recommendations per genre\n",
    "n_recs = 50\n",
    "\n",
    "data_dict = {\"id\":[], \"genre\":[], \"track_name\":[], \"artist_name\":[],\n",
    "             \"danceability\":[], \"valence\":[], \"energy\":[], \"tempo\":[]}\n",
    "             #,\n",
    "             #\"loudness\":[], \"speechiness\":[], \"instrumentalness\":[]}\n"
   ]
  },
  {
   "cell_type": "code",
   "execution_count": 3,
   "metadata": {},
   "outputs": [
    {
     "name": "stderr",
     "output_type": "stream",
     "text": [
      "100%|██████████| 126/126 [42:13<00:00, 20.11s/it]\n"
     ]
    }
   ],
   "source": [
    "# DATA CRAWL\n",
    "# Get recs for every genre\n",
    "for g in tqdm(genres):\n",
    "    \n",
    "    # Get n recommendations\n",
    "    recs = sp.recommendations(genres = [g], limit = n_recs)\n",
    "    # json-like string to dict\n",
    "    recs = eval(recs.json().replace(\"null\", \"-999\").replace(\"false\", \"False\").replace(\"true\", \"True\"))[\"tracks\"]\n",
    "    \n",
    "    # Crawl data from each track \n",
    "    for track in recs:\n",
    "        # ID and Genre\n",
    "        data_dict[\"id\"].append(track[\"id\"])\n",
    "        data_dict[\"genre\"].append(g)\n",
    "        # Metadata\n",
    "        track_meta = sp.track(track[\"id\"])\n",
    "        data_dict[\"track_name\"].append(track_meta.name)\n",
    "        data_dict[\"artist_name\"].append(track_meta.album.artists[0].name)\n",
    "        # Mood Features\n",
    "        track_features = sp.track_audio_features(track[\"id\"])\n",
    "        data_dict[\"valence\"].append(track_features.valence)\n",
    "        data_dict[\"energy\"].append(track_features.energy)\n",
    "        data_dict[\"danceability\"].append(track_features.danceability)\n",
    "        data_dict[\"tempo\"].append(track_features.tempo)\n",
    "        #Properties Features\n",
    "        #data_dict[\"loudness\"].append(track_features.loudness)\n",
    "        #data_dict[\"speechiness\"].append(track_features.speechiness)\n",
    "        #data_dict[\"instrumentalness\"].append(track_features.instrumentalness)\n",
    "\n",
    "        # Wait 0.2 seconds per track so that the api doesn't overheat\n",
    "        time.sleep(0.2)\n"
   ]
  },
  {
   "cell_type": "code",
   "execution_count": 4,
   "metadata": {},
   "outputs": [],
   "source": [
    "# Processing Data\n",
    "df = pd.DataFrame(data_dict)"
   ]
  },
  {
   "cell_type": "code",
   "execution_count": 5,
   "metadata": {},
   "outputs": [],
   "source": [
    "# CONVERT TO CSV ONCE THIS RUNS AGAIN!!\n",
    "df.to_csv(\"mood_properties_dataset.csv\", index = False)\n",
    "df = pd.read_csv(\"mood_properties_dataset.csv\")\n",
    "# Then spearate notebooks? EDA & Preproceseeing v Everything else?"
   ]
  }
 ],
 "metadata": {
  "interpreter": {
   "hash": "9e3cdda789d8921ed1a452da3f8580e49c9e264d5fd657bccf4be8b752e279e9"
  },
  "kernelspec": {
   "display_name": "Python (learn-env)",
   "language": "python",
   "name": "python3"
  },
  "language_info": {
   "codemirror_mode": {
    "name": "ipython",
    "version": 3
   },
   "file_extension": ".py",
   "mimetype": "text/x-python",
   "name": "python",
   "nbconvert_exporter": "python",
   "pygments_lexer": "ipython3",
   "version": "3.8.5"
  }
 },
 "nbformat": 4,
 "nbformat_minor": 4
}
