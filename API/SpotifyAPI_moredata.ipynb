{
 "cells": [
  {
   "cell_type": "markdown",
   "metadata": {},
   "source": [
    "# Extracting Data from Spotify API"
   ]
  },
  {
   "cell_type": "code",
   "execution_count": null,
   "metadata": {},
   "outputs": [],
   "source": [
    "#import spotipy\n",
    "#from spotipy.oauth2 import SpotifyClientCredentials"
   ]
  },
  {
   "cell_type": "code",
   "execution_count": null,
   "metadata": {},
   "outputs": [],
   "source": [
    "# Setting environement variables\n",
    "# https://www.youtube.com/watch?v=YdgIWTYQ69A\n",
    "\n",
    "#from dotenv import load_dotenv\n",
    "#import os\n",
    "\n",
    "#load_dotenv()\n",
    "\n",
    "#cid = os.getenv(\"cid\")\n",
    "#secret = os.getenv(\"secret\")"
   ]
  },
  {
   "cell_type": "code",
   "execution_count": null,
   "metadata": {},
   "outputs": [],
   "source": [
    "#Authentication \n",
    "#client_credentials_manager = SpotifyClientCredentials(client_id=cid, client_secret=secret)\n",
    "#sp = spotipy.Spotify(client_credentials_manager = client_credentials_manager)"
   ]
  },
  {
   "cell_type": "markdown",
   "metadata": {},
   "source": [
    "# Fetching Spotify Tracks\n",
    "We'll extract "
   ]
  },
  {
   "cell_type": "code",
   "execution_count": 6,
   "metadata": {},
   "outputs": [],
   "source": [
    "# Importing modules\n",
    "import sys\n",
    "sys.path.append(\"../spotify_api_web_app\")\n",
    "\n",
    "import authorization\n",
    "import pandas as pd\n",
    "from tqdm import tqdm\n",
    "import time\n",
    "import random\n",
    "\n",
    "sp = authorization.authorize()"
   ]
  },
  {
   "cell_type": "code",
   "execution_count": 3,
   "metadata": {},
   "outputs": [],
   "source": [
    "# Fetching genres\n",
    "genres = sp.recommendation_genre_seeds()\n",
    "\n",
    "# We are only able to extract 100 recommendations per genre\n",
    "n_recs = 75\n",
    "\n",
    "data_dict = {\"id\":[], \"genre\":[], \"track_name\":[], \"artist_name\":[],\n",
    "             \"danceability\":[], \"valence\":[], \"energy\":[], \"tempo\":[],\n",
    "             \"loudness\":[], \"speechiness\":[], \"instrumentalness\":[]}\n"
   ]
  },
  {
   "cell_type": "code",
   "execution_count": 5,
   "metadata": {},
   "outputs": [
    {
     "name": "stderr",
     "output_type": "stream",
     "text": [
      "100%|██████████| 126/126 [1:09:06<00:00, 32.90s/it]\n"
     ]
    }
   ],
   "source": [
    "# DATA CRAWL\n",
    "# Get recs for every genre\n",
    "for g in tqdm(genres):\n",
    "    \n",
    "    # Get n recommendations\n",
    "    recs = sp.recommendations(genres = [g], limit = n_recs)\n",
    "    # json-like string to dict\n",
    "    recs = eval(recs.json().replace(\"null\", \"-999\").replace(\"false\", \"False\").replace(\"true\", \"True\"))[\"tracks\"]\n",
    "    \n",
    "    # Crawl data from each track \n",
    "    for track in recs:\n",
    "        # ID and Genre\n",
    "        data_dict[\"id\"].append(track[\"id\"])\n",
    "        data_dict[\"genre\"].append(g)\n",
    "        # Metadata\n",
    "        track_meta = sp.track(track[\"id\"])\n",
    "        data_dict[\"track_name\"].append(track_meta.name)\n",
    "        data_dict[\"artist_name\"].append(track_meta.album.artists[0].name)\n",
    "        # Mood Features\n",
    "        track_features = sp.track_audio_features(track[\"id\"])\n",
    "        data_dict[\"valence\"].append(track_features.valence)\n",
    "        data_dict[\"energy\"].append(track_features.energy)\n",
    "        data_dict[\"danceability\"].append(track_features.danceability)\n",
    "        data_dict[\"tempo\"].append(track_features.tempo)\n",
    "        #Properties Features\n",
    "        data_dict[\"loudness\"].append(track_features.loudness)\n",
    "        data_dict[\"speechiness\"].append(track_features.speechiness)\n",
    "        data_dict[\"instrumentalness\"].append(track_features.instrumentalness)\n",
    "\n",
    "        # Wait 0.2 seconds per track so that the api doesn't overheat\n",
    "        time.sleep(0.2)\n"
   ]
  },
  {
   "cell_type": "code",
   "execution_count": 13,
   "metadata": {},
   "outputs": [],
   "source": [
    "# Processing Data\n",
    "#df = pd.DataFrame(data_dict)\n",
    "\n",
    "df = pd.DataFrame.from_dict(data_dict, orient='index')\n",
    "df = df.transpose()"
   ]
  },
  {
   "cell_type": "code",
   "execution_count": 14,
   "metadata": {},
   "outputs": [
    {
     "data": {
      "text/html": [
       "<div>\n",
       "<style scoped>\n",
       "    .dataframe tbody tr th:only-of-type {\n",
       "        vertical-align: middle;\n",
       "    }\n",
       "\n",
       "    .dataframe tbody tr th {\n",
       "        vertical-align: top;\n",
       "    }\n",
       "\n",
       "    .dataframe thead th {\n",
       "        text-align: right;\n",
       "    }\n",
       "</style>\n",
       "<table border=\"1\" class=\"dataframe\">\n",
       "  <thead>\n",
       "    <tr style=\"text-align: right;\">\n",
       "      <th></th>\n",
       "      <th>id</th>\n",
       "      <th>genre</th>\n",
       "      <th>track_name</th>\n",
       "      <th>artist_name</th>\n",
       "      <th>danceability</th>\n",
       "      <th>valence</th>\n",
       "      <th>energy</th>\n",
       "      <th>tempo</th>\n",
       "      <th>loudness</th>\n",
       "      <th>speechiness</th>\n",
       "      <th>instrumentalness</th>\n",
       "    </tr>\n",
       "  </thead>\n",
       "  <tbody>\n",
       "    <tr>\n",
       "      <th>0</th>\n",
       "      <td>6wN5nWLgjEGmPwozDh2jwM</td>\n",
       "      <td>acoustic</td>\n",
       "      <td>Kiss Me</td>\n",
       "      <td>Jason Walker</td>\n",
       "      <td>0.429</td>\n",
       "      <td>0.330</td>\n",
       "      <td>0.184</td>\n",
       "      <td>77.567</td>\n",
       "      <td>-9.731</td>\n",
       "      <td>0.0299</td>\n",
       "      <td>0.000000</td>\n",
       "    </tr>\n",
       "    <tr>\n",
       "      <th>1</th>\n",
       "      <td>5z1vCywwTJAP8qSkGJymFY</td>\n",
       "      <td>acoustic</td>\n",
       "      <td>Creep - Live</td>\n",
       "      <td>Korn</td>\n",
       "      <td>0.484</td>\n",
       "      <td>0.236</td>\n",
       "      <td>0.534</td>\n",
       "      <td>104.023</td>\n",
       "      <td>-8.156</td>\n",
       "      <td>0.1510</td>\n",
       "      <td>0.000000</td>\n",
       "    </tr>\n",
       "    <tr>\n",
       "      <th>2</th>\n",
       "      <td>1ZmbLKxfrWh2ejFjiZxZPW</td>\n",
       "      <td>acoustic</td>\n",
       "      <td>Better Off - Live From Spotify London</td>\n",
       "      <td>HAIM</td>\n",
       "      <td>0.510</td>\n",
       "      <td>0.419</td>\n",
       "      <td>0.702</td>\n",
       "      <td>119.296</td>\n",
       "      <td>-10.475</td>\n",
       "      <td>0.0296</td>\n",
       "      <td>0.003800</td>\n",
       "    </tr>\n",
       "    <tr>\n",
       "      <th>3</th>\n",
       "      <td>7noCkklUhEAoj8GJkbAuHq</td>\n",
       "      <td>acoustic</td>\n",
       "      <td>All of Me</td>\n",
       "      <td>Boyce Avenue</td>\n",
       "      <td>0.606</td>\n",
       "      <td>0.308</td>\n",
       "      <td>0.209</td>\n",
       "      <td>125.969</td>\n",
       "      <td>-10.273</td>\n",
       "      <td>0.0418</td>\n",
       "      <td>0.000000</td>\n",
       "    </tr>\n",
       "    <tr>\n",
       "      <th>4</th>\n",
       "      <td>6wDKGtbPpF9xPMRv7bswQN</td>\n",
       "      <td>acoustic</td>\n",
       "      <td>Dead Sea</td>\n",
       "      <td>The Lumineers</td>\n",
       "      <td>0.713</td>\n",
       "      <td>0.472</td>\n",
       "      <td>0.319</td>\n",
       "      <td>94.043</td>\n",
       "      <td>-11.077</td>\n",
       "      <td>0.0289</td>\n",
       "      <td>0.000079</td>\n",
       "    </tr>\n",
       "  </tbody>\n",
       "</table>\n",
       "</div>"
      ],
      "text/plain": [
       "                       id     genre                             track_name  \\\n",
       "0  6wN5nWLgjEGmPwozDh2jwM  acoustic                                Kiss Me   \n",
       "1  5z1vCywwTJAP8qSkGJymFY  acoustic                           Creep - Live   \n",
       "2  1ZmbLKxfrWh2ejFjiZxZPW  acoustic  Better Off - Live From Spotify London   \n",
       "3  7noCkklUhEAoj8GJkbAuHq  acoustic                              All of Me   \n",
       "4  6wDKGtbPpF9xPMRv7bswQN  acoustic                               Dead Sea   \n",
       "\n",
       "     artist_name  danceability  valence  energy    tempo  loudness  \\\n",
       "0   Jason Walker         0.429    0.330   0.184   77.567    -9.731   \n",
       "1           Korn         0.484    0.236   0.534  104.023    -8.156   \n",
       "2           HAIM         0.510    0.419   0.702  119.296   -10.475   \n",
       "3   Boyce Avenue         0.606    0.308   0.209  125.969   -10.273   \n",
       "4  The Lumineers         0.713    0.472   0.319   94.043   -11.077   \n",
       "\n",
       "   speechiness  instrumentalness  \n",
       "0       0.0299          0.000000  \n",
       "1       0.1510          0.000000  \n",
       "2       0.0296          0.003800  \n",
       "3       0.0418          0.000000  \n",
       "4       0.0289          0.000079  "
      ]
     },
     "execution_count": 14,
     "metadata": {},
     "output_type": "execute_result"
    }
   ],
   "source": [
    "# CONVERT TO CSV ONCE THIS RUNS AGAIN!!\n",
    "df.to_csv(\"track_properties_dataset.csv\", index = False)\n",
    "df = pd.read_csv(\"track_properties_dataset.csv\")\n",
    "df.head()"
   ]
  }
 ],
 "metadata": {
  "interpreter": {
   "hash": "9e3cdda789d8921ed1a452da3f8580e49c9e264d5fd657bccf4be8b752e279e9"
  },
  "kernelspec": {
   "display_name": "Python (learn-env)",
   "language": "python",
   "name": "python3"
  },
  "language_info": {
   "codemirror_mode": {
    "name": "ipython",
    "version": 3
   },
   "file_extension": ".py",
   "mimetype": "text/x-python",
   "name": "python",
   "nbconvert_exporter": "python",
   "pygments_lexer": "ipython3",
   "version": "3.8.5"
  }
 },
 "nbformat": 4,
 "nbformat_minor": 4
}
