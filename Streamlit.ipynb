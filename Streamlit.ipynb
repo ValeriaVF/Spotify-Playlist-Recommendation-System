{
 "cells": [
  {
   "cell_type": "code",
   "execution_count": null,
   "metadata": {},
   "outputs": [],
   "source": [
    "https://towardsdatascience.com/how-to-utilize-spotifys-api-and-create-a-user-interface-in-streamlit-5d8820db95d5\n",
    "https://towardsdatascience.com/interactive-machine-learning-and-data-visualization-with-streamlit-7108c5032144\n",
    "\n",
    "Look into Flask"
   ]
  }
 ],
 "metadata": {
  "language_info": {
   "name": "python"
  },
  "orig_nbformat": 4
 },
 "nbformat": 4,
 "nbformat_minor": 2
}
