{
 "cells": [
  {
   "cell_type": "code",
   "execution_count": 43,
   "metadata": {},
   "outputs": [],
   "source": [
    "import pandas as pd\n",
    "import numpy as np"
   ]
  },
  {
   "cell_type": "code",
   "execution_count": 44,
   "metadata": {},
   "outputs": [],
   "source": [
    "# Read dataset\n",
    "df = pd.read_csv(\"../data/song_properties_dataset.csv\")"
   ]
  },
  {
   "cell_type": "code",
   "execution_count": 45,
   "metadata": {},
   "outputs": [],
   "source": [
    "# Dropping unspecified artists \n",
    "df = df[df[\"artist_name\"] != \"['Unspecified']\"]"
   ]
  },
  {
   "cell_type": "code",
   "execution_count": 46,
   "metadata": {},
   "outputs": [],
   "source": [
    "# Filter out speeches, comedy routines, poems, etc.\n",
    "# .66 as per suggested by Spotify\n",
    "df = df[df[\"speechiness\"] < 0.66]"
   ]
  },
  {
   "cell_type": "markdown",
   "metadata": {},
   "source": [
    "# Exploratory Data Analysis"
   ]
  },
  {
   "cell_type": "code",
   "execution_count": 47,
   "metadata": {},
   "outputs": [
    {
     "data": {
      "text/html": [
       "<div>\n",
       "<style scoped>\n",
       "    .dataframe tbody tr th:only-of-type {\n",
       "        vertical-align: middle;\n",
       "    }\n",
       "\n",
       "    .dataframe tbody tr th {\n",
       "        vertical-align: top;\n",
       "    }\n",
       "\n",
       "    .dataframe thead th {\n",
       "        text-align: right;\n",
       "    }\n",
       "</style>\n",
       "<table border=\"1\" class=\"dataframe\">\n",
       "  <thead>\n",
       "    <tr style=\"text-align: right;\">\n",
       "      <th></th>\n",
       "      <th>id</th>\n",
       "      <th>genre</th>\n",
       "      <th>track_name</th>\n",
       "      <th>artist_name</th>\n",
       "      <th>danceability</th>\n",
       "      <th>valence</th>\n",
       "      <th>energy</th>\n",
       "      <th>tempo</th>\n",
       "      <th>loudness</th>\n",
       "      <th>speechiness</th>\n",
       "      <th>instrumentalness</th>\n",
       "    </tr>\n",
       "  </thead>\n",
       "  <tbody>\n",
       "    <tr>\n",
       "      <th>0</th>\n",
       "      <td>6wN5nWLgjEGmPwozDh2jwM</td>\n",
       "      <td>acoustic</td>\n",
       "      <td>Kiss Me</td>\n",
       "      <td>Jason Walker</td>\n",
       "      <td>0.429</td>\n",
       "      <td>0.330</td>\n",
       "      <td>0.184</td>\n",
       "      <td>77.567</td>\n",
       "      <td>-9.731</td>\n",
       "      <td>0.0299</td>\n",
       "      <td>0.000000</td>\n",
       "    </tr>\n",
       "    <tr>\n",
       "      <th>1</th>\n",
       "      <td>5z1vCywwTJAP8qSkGJymFY</td>\n",
       "      <td>acoustic</td>\n",
       "      <td>Creep - Live</td>\n",
       "      <td>Korn</td>\n",
       "      <td>0.484</td>\n",
       "      <td>0.236</td>\n",
       "      <td>0.534</td>\n",
       "      <td>104.023</td>\n",
       "      <td>-8.156</td>\n",
       "      <td>0.1510</td>\n",
       "      <td>0.000000</td>\n",
       "    </tr>\n",
       "    <tr>\n",
       "      <th>2</th>\n",
       "      <td>1ZmbLKxfrWh2ejFjiZxZPW</td>\n",
       "      <td>acoustic</td>\n",
       "      <td>Better Off - Live From Spotify London</td>\n",
       "      <td>HAIM</td>\n",
       "      <td>0.510</td>\n",
       "      <td>0.419</td>\n",
       "      <td>0.702</td>\n",
       "      <td>119.296</td>\n",
       "      <td>-10.475</td>\n",
       "      <td>0.0296</td>\n",
       "      <td>0.003800</td>\n",
       "    </tr>\n",
       "    <tr>\n",
       "      <th>3</th>\n",
       "      <td>7noCkklUhEAoj8GJkbAuHq</td>\n",
       "      <td>acoustic</td>\n",
       "      <td>All of Me</td>\n",
       "      <td>Boyce Avenue</td>\n",
       "      <td>0.606</td>\n",
       "      <td>0.308</td>\n",
       "      <td>0.209</td>\n",
       "      <td>125.969</td>\n",
       "      <td>-10.273</td>\n",
       "      <td>0.0418</td>\n",
       "      <td>0.000000</td>\n",
       "    </tr>\n",
       "    <tr>\n",
       "      <th>4</th>\n",
       "      <td>6wDKGtbPpF9xPMRv7bswQN</td>\n",
       "      <td>acoustic</td>\n",
       "      <td>Dead Sea</td>\n",
       "      <td>The Lumineers</td>\n",
       "      <td>0.713</td>\n",
       "      <td>0.472</td>\n",
       "      <td>0.319</td>\n",
       "      <td>94.043</td>\n",
       "      <td>-11.077</td>\n",
       "      <td>0.0289</td>\n",
       "      <td>0.000079</td>\n",
       "    </tr>\n",
       "    <tr>\n",
       "      <th>5</th>\n",
       "      <td>7nnWIPM5hwE3DaUBkvOIpy</td>\n",
       "      <td>acoustic</td>\n",
       "      <td>Drive</td>\n",
       "      <td>Incubus</td>\n",
       "      <td>0.645</td>\n",
       "      <td>0.666</td>\n",
       "      <td>0.792</td>\n",
       "      <td>90.565</td>\n",
       "      <td>-6.862</td>\n",
       "      <td>0.1900</td>\n",
       "      <td>0.000000</td>\n",
       "    </tr>\n",
       "    <tr>\n",
       "      <th>6</th>\n",
       "      <td>2izoqbHZCGaoFOO8vcc1hK</td>\n",
       "      <td>acoustic</td>\n",
       "      <td>Boyfriend</td>\n",
       "      <td>Alex G</td>\n",
       "      <td>0.781</td>\n",
       "      <td>0.741</td>\n",
       "      <td>0.737</td>\n",
       "      <td>93.077</td>\n",
       "      <td>-12.636</td>\n",
       "      <td>0.0638</td>\n",
       "      <td>0.000037</td>\n",
       "    </tr>\n",
       "    <tr>\n",
       "      <th>7</th>\n",
       "      <td>0GNI8K3VATWBABQFAzBAYe</td>\n",
       "      <td>acoustic</td>\n",
       "      <td>Stay</td>\n",
       "      <td>Rihanna</td>\n",
       "      <td>0.621</td>\n",
       "      <td>0.125</td>\n",
       "      <td>0.310</td>\n",
       "      <td>111.893</td>\n",
       "      <td>-9.903</td>\n",
       "      <td>0.0308</td>\n",
       "      <td>0.000025</td>\n",
       "    </tr>\n",
       "    <tr>\n",
       "      <th>8</th>\n",
       "      <td>0VxFKXvKLjYWU7oPPMwzuN</td>\n",
       "      <td>acoustic</td>\n",
       "      <td>Somewhere Only We Know</td>\n",
       "      <td>Keane</td>\n",
       "      <td>0.457</td>\n",
       "      <td>0.389</td>\n",
       "      <td>0.646</td>\n",
       "      <td>172.257</td>\n",
       "      <td>-10.132</td>\n",
       "      <td>0.0379</td>\n",
       "      <td>0.010900</td>\n",
       "    </tr>\n",
       "    <tr>\n",
       "      <th>9</th>\n",
       "      <td>11ETYjIGagOXU1PtCmF3T2</td>\n",
       "      <td>acoustic</td>\n",
       "      <td>Stuck In The Moment</td>\n",
       "      <td>Justin Bieber</td>\n",
       "      <td>0.718</td>\n",
       "      <td>0.452</td>\n",
       "      <td>0.709</td>\n",
       "      <td>90.026</td>\n",
       "      <td>-11.566</td>\n",
       "      <td>0.2180</td>\n",
       "      <td>0.000162</td>\n",
       "    </tr>\n",
       "  </tbody>\n",
       "</table>\n",
       "</div>"
      ],
      "text/plain": [
       "                       id     genre                             track_name  \\\n",
       "0  6wN5nWLgjEGmPwozDh2jwM  acoustic                                Kiss Me   \n",
       "1  5z1vCywwTJAP8qSkGJymFY  acoustic                           Creep - Live   \n",
       "2  1ZmbLKxfrWh2ejFjiZxZPW  acoustic  Better Off - Live From Spotify London   \n",
       "3  7noCkklUhEAoj8GJkbAuHq  acoustic                              All of Me   \n",
       "4  6wDKGtbPpF9xPMRv7bswQN  acoustic                               Dead Sea   \n",
       "5  7nnWIPM5hwE3DaUBkvOIpy  acoustic                                  Drive   \n",
       "6  2izoqbHZCGaoFOO8vcc1hK  acoustic                              Boyfriend   \n",
       "7  0GNI8K3VATWBABQFAzBAYe  acoustic                                   Stay   \n",
       "8  0VxFKXvKLjYWU7oPPMwzuN  acoustic                 Somewhere Only We Know   \n",
       "9  11ETYjIGagOXU1PtCmF3T2  acoustic                    Stuck In The Moment   \n",
       "\n",
       "     artist_name  danceability  valence  energy    tempo  loudness  \\\n",
       "0   Jason Walker         0.429    0.330   0.184   77.567    -9.731   \n",
       "1           Korn         0.484    0.236   0.534  104.023    -8.156   \n",
       "2           HAIM         0.510    0.419   0.702  119.296   -10.475   \n",
       "3   Boyce Avenue         0.606    0.308   0.209  125.969   -10.273   \n",
       "4  The Lumineers         0.713    0.472   0.319   94.043   -11.077   \n",
       "5        Incubus         0.645    0.666   0.792   90.565    -6.862   \n",
       "6         Alex G         0.781    0.741   0.737   93.077   -12.636   \n",
       "7        Rihanna         0.621    0.125   0.310  111.893    -9.903   \n",
       "8          Keane         0.457    0.389   0.646  172.257   -10.132   \n",
       "9  Justin Bieber         0.718    0.452   0.709   90.026   -11.566   \n",
       "\n",
       "   speechiness  instrumentalness  \n",
       "0       0.0299          0.000000  \n",
       "1       0.1510          0.000000  \n",
       "2       0.0296          0.003800  \n",
       "3       0.0418          0.000000  \n",
       "4       0.0289          0.000079  \n",
       "5       0.1900          0.000000  \n",
       "6       0.0638          0.000037  \n",
       "7       0.0308          0.000025  \n",
       "8       0.0379          0.010900  \n",
       "9       0.2180          0.000162  "
      ]
     },
     "execution_count": 47,
     "metadata": {},
     "output_type": "execute_result"
    }
   ],
   "source": [
    "df.head(10)"
   ]
  },
  {
   "cell_type": "code",
   "execution_count": 48,
   "metadata": {},
   "outputs": [],
   "source": [
    "import seaborn as sns; sns.set_theme()"
   ]
  },
  {
   "cell_type": "code",
   "execution_count": 49,
   "metadata": {},
   "outputs": [
    {
     "data": {
      "text/plain": [
       "<AxesSubplot:>"
      ]
     },
     "execution_count": 49,
     "metadata": {},
     "output_type": "execute_result"
    },
    {
     "data": {
      "image/png": "[encoded data removed]",
      "text/plain": [
       "<Figure size 432x288 with 2 Axes>"
      ]
     },
     "metadata": {},
     "output_type": "display_data"
    }
   ],
   "source": [
    "sns.heatmap(df.corr(), cmap = \"coolwarm\")"
   ]
  },
  {
   "cell_type": "code",
   "execution_count": 50,
   "metadata": {},
   "outputs": [],
   "source": [
    "df.dropna(inplace=True)"
   ]
  },
  {
   "cell_type": "markdown",
   "metadata": {},
   "source": [
    "# Preprocessing"
   ]
  },
  {
   "cell_type": "code",
   "execution_count": 51,
   "metadata": {},
   "outputs": [
    {
     "name": "stdout",
     "output_type": "stream",
     "text": [
      "Are all songs unique:  True\n"
     ]
    }
   ],
   "source": [
    "# Drop duplicates\n",
    "df.drop_duplicates(subset = \"id\", keep = \"first\", inplace = True)\n",
    "\n",
    "# Drop song duplicates\n",
    "def drop_duplicates(df):\n",
    "    df['artists_song'] = df.apply(lambda row: row['artist_name']+row['track_name'],axis = 1)\n",
    "    return df.drop_duplicates('artists_song')\n",
    "\n",
    "track_df = drop_duplicates(df)\n",
    "print(\"Are all songs unique: \",len(pd.unique(track_df.artists_song))==len(track_df))"
   ]
  },
  {
   "cell_type": "code",
   "execution_count": 52,
   "metadata": {},
   "outputs": [
    {
     "data": {
      "text/plain": [
       "0    [acoustic]\n",
       "1    [acoustic]\n",
       "2    [acoustic]\n",
       "3    [acoustic]\n",
       "4    [acoustic]\n",
       "Name: genres_list, dtype: object"
      ]
     },
     "execution_count": 52,
     "metadata": {},
     "output_type": "execute_result"
    }
   ],
   "source": [
    "# Converting genres columns into a list\n",
    "def genre_preprocess(df):\n",
    "    '''\n",
    "    Preprocess the genre data\n",
    "    '''\n",
    "    df['genres_list'] = df['genre'].apply(lambda x: x.split(\" \"))\n",
    "    return df\n",
    "track_df = genre_preprocess(track_df)\n",
    "track_df['genres_list'].head()"
   ]
  },
  {
   "cell_type": "code",
   "execution_count": 53,
   "metadata": {},
   "outputs": [],
   "source": [
    "# Preporcessing new playlist\n",
    "def playlist_preprocess(df):\n",
    "    '''\n",
    "    Preprocess imported playlist\n",
    "    '''\n",
    "    df = drop_duplicates(df)\n",
    "    df = select_cols(df)\n",
    "    df = genre_preprocess(df)\n",
    "\n",
    "    return df"
   ]
  },
  {
   "cell_type": "markdown",
   "metadata": {},
   "source": [
    "# Feature Engineering"
   ]
  },
  {
   "cell_type": "code",
   "execution_count": 54,
   "metadata": {},
   "outputs": [],
   "source": [
    "from textblob import TextBlob\n",
    "\n",
    "# Preparing for sentiment analysis, will devide by subjectivity (0,1) v polarity (-1,1)\n",
    "def getSubjectivity(text):\n",
    "  '''\n",
    "  Getting the Subjectivity using TextBlob\n",
    "  '''\n",
    "  return TextBlob(text).sentiment.subjectivity\n",
    "\n",
    "def getPolarity(text):\n",
    "  '''\n",
    "  Getting the Polarity using TextBlob\n",
    "  '''\n",
    "  return TextBlob(text).sentiment.polarity\n",
    "\n",
    "def getAnalysis(score, task=\"polarity\"):\n",
    "  '''\n",
    "  Categorizing the Polarity & Subjectivity score\n",
    "  '''\n",
    "  if task == \"subjectivity\":\n",
    "    if score < 1/3:\n",
    "      return \"low\"\n",
    "    elif score > 1/3:\n",
    "      return \"high\"\n",
    "    else:\n",
    "      return \"medium\"\n",
    "  else:\n",
    "    if score < 0:\n",
    "      return 'Negative'\n",
    "    elif score == 0:\n",
    "      return 'Neutral'\n",
    "    else:\n",
    "      return 'Positive'\n",
    "\n",
    "def sentiment_analysis(df, text_col):\n",
    "\n",
    "  df['subjectivity'] = df[text_col].apply(getSubjectivity).apply(lambda x: getAnalysis(x,\"subjectivity\"))\n",
    "  df['polarity'] = df[text_col].apply(getPolarity).apply(getAnalysis)\n",
    "  return df"
   ]
  },
  {
   "cell_type": "code",
   "execution_count": 55,
   "metadata": {},
   "outputs": [
    {
     "data": {
      "text/html": [
       "<div>\n",
       "<style scoped>\n",
       "    .dataframe tbody tr th:only-of-type {\n",
       "        vertical-align: middle;\n",
       "    }\n",
       "\n",
       "    .dataframe tbody tr th {\n",
       "        vertical-align: top;\n",
       "    }\n",
       "\n",
       "    .dataframe thead th {\n",
       "        text-align: right;\n",
       "    }\n",
       "</style>\n",
       "<table border=\"1\" class=\"dataframe\">\n",
       "  <thead>\n",
       "    <tr style=\"text-align: right;\">\n",
       "      <th></th>\n",
       "      <th>id</th>\n",
       "      <th>genre</th>\n",
       "      <th>track_name</th>\n",
       "      <th>artist_name</th>\n",
       "      <th>danceability</th>\n",
       "      <th>valence</th>\n",
       "      <th>energy</th>\n",
       "      <th>tempo</th>\n",
       "      <th>loudness</th>\n",
       "      <th>speechiness</th>\n",
       "      <th>instrumentalness</th>\n",
       "      <th>artists_song</th>\n",
       "      <th>genres_list</th>\n",
       "      <th>subjectivity</th>\n",
       "      <th>polarity</th>\n",
       "    </tr>\n",
       "  </thead>\n",
       "  <tbody>\n",
       "    <tr>\n",
       "      <th>0</th>\n",
       "      <td>6wN5nWLgjEGmPwozDh2jwM</td>\n",
       "      <td>acoustic</td>\n",
       "      <td>Kiss Me</td>\n",
       "      <td>Jason Walker</td>\n",
       "      <td>0.429</td>\n",
       "      <td>0.330</td>\n",
       "      <td>0.184</td>\n",
       "      <td>77.567</td>\n",
       "      <td>-9.731</td>\n",
       "      <td>0.0299</td>\n",
       "      <td>0.000000</td>\n",
       "      <td>Jason WalkerKiss Me</td>\n",
       "      <td>[acoustic]</td>\n",
       "      <td>low</td>\n",
       "      <td>Neutral</td>\n",
       "    </tr>\n",
       "    <tr>\n",
       "      <th>1</th>\n",
       "      <td>5z1vCywwTJAP8qSkGJymFY</td>\n",
       "      <td>acoustic</td>\n",
       "      <td>Creep - Live</td>\n",
       "      <td>Korn</td>\n",
       "      <td>0.484</td>\n",
       "      <td>0.236</td>\n",
       "      <td>0.534</td>\n",
       "      <td>104.023</td>\n",
       "      <td>-8.156</td>\n",
       "      <td>0.1510</td>\n",
       "      <td>0.000000</td>\n",
       "      <td>KornCreep - Live</td>\n",
       "      <td>[acoustic]</td>\n",
       "      <td>high</td>\n",
       "      <td>Positive</td>\n",
       "    </tr>\n",
       "    <tr>\n",
       "      <th>2</th>\n",
       "      <td>1ZmbLKxfrWh2ejFjiZxZPW</td>\n",
       "      <td>acoustic</td>\n",
       "      <td>Better Off - Live From Spotify London</td>\n",
       "      <td>HAIM</td>\n",
       "      <td>0.510</td>\n",
       "      <td>0.419</td>\n",
       "      <td>0.702</td>\n",
       "      <td>119.296</td>\n",
       "      <td>-10.475</td>\n",
       "      <td>0.0296</td>\n",
       "      <td>0.003800</td>\n",
       "      <td>HAIMBetter Off - Live From Spotify London</td>\n",
       "      <td>[acoustic]</td>\n",
       "      <td>high</td>\n",
       "      <td>Positive</td>\n",
       "    </tr>\n",
       "    <tr>\n",
       "      <th>3</th>\n",
       "      <td>7noCkklUhEAoj8GJkbAuHq</td>\n",
       "      <td>acoustic</td>\n",
       "      <td>All of Me</td>\n",
       "      <td>Boyce Avenue</td>\n",
       "      <td>0.606</td>\n",
       "      <td>0.308</td>\n",
       "      <td>0.209</td>\n",
       "      <td>125.969</td>\n",
       "      <td>-10.273</td>\n",
       "      <td>0.0418</td>\n",
       "      <td>0.000000</td>\n",
       "      <td>Boyce AvenueAll of Me</td>\n",
       "      <td>[acoustic]</td>\n",
       "      <td>low</td>\n",
       "      <td>Neutral</td>\n",
       "    </tr>\n",
       "    <tr>\n",
       "      <th>4</th>\n",
       "      <td>6wDKGtbPpF9xPMRv7bswQN</td>\n",
       "      <td>acoustic</td>\n",
       "      <td>Dead Sea</td>\n",
       "      <td>The Lumineers</td>\n",
       "      <td>0.713</td>\n",
       "      <td>0.472</td>\n",
       "      <td>0.319</td>\n",
       "      <td>94.043</td>\n",
       "      <td>-11.077</td>\n",
       "      <td>0.0289</td>\n",
       "      <td>0.000079</td>\n",
       "      <td>The LumineersDead Sea</td>\n",
       "      <td>[acoustic]</td>\n",
       "      <td>high</td>\n",
       "      <td>Negative</td>\n",
       "    </tr>\n",
       "  </tbody>\n",
       "</table>\n",
       "</div>"
      ],
      "text/plain": [
       "                       id     genre                             track_name  \\\n",
       "0  6wN5nWLgjEGmPwozDh2jwM  acoustic                                Kiss Me   \n",
       "1  5z1vCywwTJAP8qSkGJymFY  acoustic                           Creep - Live   \n",
       "2  1ZmbLKxfrWh2ejFjiZxZPW  acoustic  Better Off - Live From Spotify London   \n",
       "3  7noCkklUhEAoj8GJkbAuHq  acoustic                              All of Me   \n",
       "4  6wDKGtbPpF9xPMRv7bswQN  acoustic                               Dead Sea   \n",
       "\n",
       "     artist_name  danceability  valence  energy    tempo  loudness  \\\n",
       "0   Jason Walker         0.429    0.330   0.184   77.567    -9.731   \n",
       "1           Korn         0.484    0.236   0.534  104.023    -8.156   \n",
       "2           HAIM         0.510    0.419   0.702  119.296   -10.475   \n",
       "3   Boyce Avenue         0.606    0.308   0.209  125.969   -10.273   \n",
       "4  The Lumineers         0.713    0.472   0.319   94.043   -11.077   \n",
       "\n",
       "   speechiness  instrumentalness                               artists_song  \\\n",
       "0       0.0299          0.000000                        Jason WalkerKiss Me   \n",
       "1       0.1510          0.000000                           KornCreep - Live   \n",
       "2       0.0296          0.003800  HAIMBetter Off - Live From Spotify London   \n",
       "3       0.0418          0.000000                      Boyce AvenueAll of Me   \n",
       "4       0.0289          0.000079                      The LumineersDead Sea   \n",
       "\n",
       "  genres_list subjectivity  polarity  \n",
       "0  [acoustic]          low   Neutral  \n",
       "1  [acoustic]         high  Positive  \n",
       "2  [acoustic]         high  Positive  \n",
       "3  [acoustic]          low   Neutral  \n",
       "4  [acoustic]         high  Negative  "
      ]
     },
     "execution_count": 55,
     "metadata": {},
     "output_type": "execute_result"
    }
   ],
   "source": [
    "sentiment = sentiment_analysis(track_df, \"track_name\")\n",
    "sentiment.head()"
   ]
  },
  {
   "cell_type": "markdown",
   "metadata": {},
   "source": [
    "## One Hot Encoding"
   ]
  },
  {
   "cell_type": "code",
   "execution_count": 56,
   "metadata": {},
   "outputs": [],
   "source": [
    "def ohe_prep(df, column, new_name): \n",
    "    tf_df = pd.get_dummies(df[column])\n",
    "    feature_names = tf_df.columns\n",
    "    tf_df.columns = [new_name + \"|\" + str(i) for i in feature_names]\n",
    "    tf_df.reset_index(drop = True, inplace = True)    \n",
    "    return tf_df"
   ]
  },
  {
   "cell_type": "code",
   "execution_count": 57,
   "metadata": {},
   "outputs": [
    {
     "data": {
      "text/plain": [
       "subject|high      0\n",
       "subject|low       1\n",
       "subject|medium    0\n",
       "Name: 0, dtype: uint8"
      ]
     },
     "execution_count": 57,
     "metadata": {},
     "output_type": "execute_result"
    }
   ],
   "source": [
    "# One-hot encoding for the subjectivity \n",
    "subject_ohe = ohe_prep(sentiment, 'subjectivity','subject')\n",
    "subject_ohe.iloc[0]"
   ]
  },
  {
   "cell_type": "markdown",
   "metadata": {},
   "source": [
    "## TF-IDF\n",
    "\n",
    "To address multiple genres"
   ]
  },
  {
   "cell_type": "code",
   "execution_count": 58,
   "metadata": {},
   "outputs": [
    {
     "data": {
      "text/plain": [
       "genre|acoustic       1.0\n",
       "genre|afrobeat       0.0\n",
       "genre|age            0.0\n",
       "genre|alt            0.0\n",
       "genre|alternative    0.0\n",
       "                    ... \n",
       "genre|trip           0.0\n",
       "genre|tunes          0.0\n",
       "genre|turkish        0.0\n",
       "genre|work           0.0\n",
       "genre|world          0.0\n",
       "Name: 0, Length: 129, dtype: float64"
      ]
     },
     "execution_count": 58,
     "metadata": {},
     "output_type": "execute_result"
    }
   ],
   "source": [
    "from sklearn.feature_extraction.text import TfidfVectorizer\n",
    "\n",
    "tfidf = TfidfVectorizer()\n",
    "tfidf_matrix =  tfidf.fit_transform(track_df['genres_list'].apply(lambda x: \" \".join(x)))\n",
    "genre_df = pd.DataFrame(tfidf_matrix.toarray())\n",
    "genre_df.columns = ['genre' + \"|\" + i for i in tfidf.get_feature_names()]\n",
    "#genre_df.drop(columns='genre|unknown')\n",
    "genre_df.reset_index(drop = True, inplace=True)\n",
    "genre_df.iloc[0]"
   ]
  },
  {
   "cell_type": "markdown",
   "metadata": {},
   "source": [
    "# Content Based Filtering"
   ]
  },
  {
   "cell_type": "code",
   "execution_count": 59,
   "metadata": {},
   "outputs": [],
   "source": [
    "# Importing relevant libraries\n",
    "from sklearn.metrics.pairwise import cosine_similarity\n",
    "from sklearn.preprocessing import MinMaxScaler\n",
    "from sklearn.feature_extraction.text import TfidfVectorizer\n",
    "from textblob import TextBlob\n",
    "import re"
   ]
  },
  {
   "cell_type": "code",
   "execution_count": 60,
   "metadata": {},
   "outputs": [
    {
     "data": {
      "text/html": [
       "<div>\n",
       "<style scoped>\n",
       "    .dataframe tbody tr th:only-of-type {\n",
       "        vertical-align: middle;\n",
       "    }\n",
       "\n",
       "    .dataframe tbody tr th {\n",
       "        vertical-align: top;\n",
       "    }\n",
       "\n",
       "    .dataframe thead th {\n",
       "        text-align: right;\n",
       "    }\n",
       "</style>\n",
       "<table border=\"1\" class=\"dataframe\">\n",
       "  <thead>\n",
       "    <tr style=\"text-align: right;\">\n",
       "      <th></th>\n",
       "      <th>id</th>\n",
       "      <th>genre</th>\n",
       "      <th>track_name</th>\n",
       "      <th>artist_name</th>\n",
       "      <th>danceability</th>\n",
       "      <th>valence</th>\n",
       "      <th>energy</th>\n",
       "      <th>tempo</th>\n",
       "      <th>loudness</th>\n",
       "      <th>speechiness</th>\n",
       "      <th>instrumentalness</th>\n",
       "    </tr>\n",
       "  </thead>\n",
       "  <tbody>\n",
       "    <tr>\n",
       "      <th>0</th>\n",
       "      <td>2rgqPSIRAfaO2MGo9smdSX</td>\n",
       "      <td>children</td>\n",
       "      <td>Dancing Queen</td>\n",
       "      <td>ABBA</td>\n",
       "      <td>0.545</td>\n",
       "      <td>0.162</td>\n",
       "      <td>0.675</td>\n",
       "      <td>124.970</td>\n",
       "      <td>-7.596</td>\n",
       "      <td>0.0323</td>\n",
       "      <td>0.000263</td>\n",
       "    </tr>\n",
       "    <tr>\n",
       "      <th>1</th>\n",
       "      <td>2TjNlK2tNBxF8C8RIaK9Gb</td>\n",
       "      <td>disco</td>\n",
       "      <td>Gimme! Gimme! Gimme! (A Man After Midnight)</td>\n",
       "      <td>ABBA</td>\n",
       "      <td>0.639</td>\n",
       "      <td>0.562</td>\n",
       "      <td>0.869</td>\n",
       "      <td>133.033</td>\n",
       "      <td>-6.438</td>\n",
       "      <td>0.0339</td>\n",
       "      <td>0.000000</td>\n",
       "    </tr>\n",
       "    <tr>\n",
       "      <th>2</th>\n",
       "      <td>22NN4BS1AlqVbyKIWExgON</td>\n",
       "      <td>groove</td>\n",
       "      <td>Mamma Mia</td>\n",
       "      <td>ABBA</td>\n",
       "      <td>0.431</td>\n",
       "      <td>0.190</td>\n",
       "      <td>0.723</td>\n",
       "      <td>130.141</td>\n",
       "      <td>-8.103</td>\n",
       "      <td>0.0254</td>\n",
       "      <td>0.000000</td>\n",
       "    </tr>\n",
       "    <tr>\n",
       "      <th>3</th>\n",
       "      <td>2ATDkfqprlNNe9mYWodgdc</td>\n",
       "      <td>groove</td>\n",
       "      <td>Dancing Queen</td>\n",
       "      <td>ABBA</td>\n",
       "      <td>0.902</td>\n",
       "      <td>0.857</td>\n",
       "      <td>0.839</td>\n",
       "      <td>118.485</td>\n",
       "      <td>-7.364</td>\n",
       "      <td>0.0367</td>\n",
       "      <td>0.000003</td>\n",
       "    </tr>\n",
       "    <tr>\n",
       "      <th>4</th>\n",
       "      <td>6vQN2a9QSgWcm74KEZYfDL</td>\n",
       "      <td>groove</td>\n",
       "      <td>Take A Chance On Me</td>\n",
       "      <td>ABBA</td>\n",
       "      <td>0.522</td>\n",
       "      <td>0.199</td>\n",
       "      <td>0.441</td>\n",
       "      <td>130.133</td>\n",
       "      <td>-9.843</td>\n",
       "      <td>0.0712</td>\n",
       "      <td>0.029400</td>\n",
       "    </tr>\n",
       "  </tbody>\n",
       "</table>\n",
       "</div>"
      ],
      "text/plain": [
       "                       id     genre  \\\n",
       "0  2rgqPSIRAfaO2MGo9smdSX  children   \n",
       "1  2TjNlK2tNBxF8C8RIaK9Gb     disco   \n",
       "2  22NN4BS1AlqVbyKIWExgON    groove   \n",
       "3  2ATDkfqprlNNe9mYWodgdc    groove   \n",
       "4  6vQN2a9QSgWcm74KEZYfDL    groove   \n",
       "\n",
       "                                    track_name artist_name  danceability  \\\n",
       "0                                Dancing Queen        ABBA         0.545   \n",
       "1  Gimme! Gimme! Gimme! (A Man After Midnight)        ABBA         0.639   \n",
       "2                                    Mamma Mia        ABBA         0.431   \n",
       "3                                Dancing Queen        ABBA         0.902   \n",
       "4                          Take A Chance On Me        ABBA         0.522   \n",
       "\n",
       "   valence  energy    tempo  loudness  speechiness  instrumentalness  \n",
       "0    0.162   0.675  124.970    -7.596       0.0323          0.000263  \n",
       "1    0.562   0.869  133.033    -6.438       0.0339          0.000000  \n",
       "2    0.190   0.723  130.141    -8.103       0.0254          0.000000  \n",
       "3    0.857   0.839  118.485    -7.364       0.0367          0.000003  \n",
       "4    0.199   0.441  130.133    -9.843       0.0712          0.029400  "
      ]
     },
     "execution_count": 60,
     "metadata": {},
     "output_type": "execute_result"
    }
   ],
   "source": [
    "# Test playlist\n",
    "playlistDF_test = pd.read_csv(\"../data/test_playlist.csv\")\n",
    "#playlistDF_test = playlist_preprocess(playlistDF_test)\n",
    "playlistDF_test.head()"
   ]
  },
  {
   "cell_type": "code",
   "execution_count": 61,
   "metadata": {},
   "outputs": [],
   "source": [
    "def generate_playlist_feature(complete_feature_set, playlist_df):\n",
    "    '''\n",
    "    Summarize a user's playlist into a single vector\n",
    "    ---\n",
    "    Input: \n",
    "    complete_feature_set (pandas dataframe): Dataframe which includes all of the features for the spotify songs\n",
    "    playlist_df (pandas dataframe): playlist dataframe\n",
    "        \n",
    "    Output: \n",
    "    complete_feature_set_playlist_final (pandas series): single vector feature that summarizes the playlist\n",
    "    complete_feature_set_nonplaylist (pandas dataframe): \n",
    "    '''\n",
    "    \n",
    "    # Find song features in the playlist\n",
    "    complete_feature_set_playlist = complete_feature_set[complete_feature_set['id'].isin(playlist_df['id'].values)]\n",
    "    # Find all non-playlist song features\n",
    "    complete_feature_set_nonplaylist = complete_feature_set[~complete_feature_set['id'].isin(playlist_df['id'].values)]\n",
    "    complete_feature_set_playlist_final = complete_feature_set_playlist.drop(columns = \"id\")\n",
    "    return complete_feature_set_playlist_final.sum(axis = 0), complete_feature_set_nonplaylist"
   ]
  },
  {
   "cell_type": "code",
   "execution_count": 62,
   "metadata": {},
   "outputs": [
    {
     "ename": "NameError",
     "evalue": "name 'complete_feature_set' is not defined",
     "output_type": "error",
     "traceback": [
      "\u001b[0;31m---------------------------------------------------------------------------\u001b[0m",
      "\u001b[0;31mNameError\u001b[0m                                 Traceback (most recent call last)",
      "\u001b[0;32m<ipython-input-62-bcecc6fbac79>\u001b[0m in \u001b[0;36m<module>\u001b[0;34m\u001b[0m\n\u001b[1;32m      1\u001b[0m \u001b[0;31m# Generate the features\u001b[0m\u001b[0;34m\u001b[0m\u001b[0;34m\u001b[0m\u001b[0;34m\u001b[0m\u001b[0m\n\u001b[0;32m----> 2\u001b[0;31m \u001b[0mcomplete_feature_set_playlist_vector\u001b[0m\u001b[0;34m,\u001b[0m \u001b[0mcomplete_feature_set_nonplaylist\u001b[0m \u001b[0;34m=\u001b[0m \u001b[0mgenerate_playlist_feature\u001b[0m\u001b[0;34m(\u001b[0m\u001b[0mcomplete_feature_set\u001b[0m\u001b[0;34m,\u001b[0m \u001b[0mplaylistDF_test\u001b[0m\u001b[0;34m)\u001b[0m\u001b[0;34m\u001b[0m\u001b[0;34m\u001b[0m\u001b[0m\n\u001b[0m",
      "\u001b[0;31mNameError\u001b[0m: name 'complete_feature_set' is not defined"
     ]
    }
   ],
   "source": [
    "# Generate the features\n",
    "complete_feature_set_playlist_vector, complete_feature_set_nonplaylist = generate_playlist_feature(complete_feature_set, playlistDF_test)\n"
   ]
  },
  {
   "cell_type": "code",
   "execution_count": null,
   "metadata": {},
   "outputs": [],
   "source": [
    "# Non-playlist features\n",
    "complete_feature_set_nonplaylist.head()"
   ]
  },
  {
   "cell_type": "code",
   "execution_count": null,
   "metadata": {},
   "outputs": [],
   "source": [
    "# Summarized playlist features\n",
    "complete_feature_set_playlist_vector"
   ]
  },
  {
   "cell_type": "code",
   "execution_count": null,
   "metadata": {},
   "outputs": [],
   "source": [
    "def generate_playlist_recos(df, features, nonplaylist_features):\n",
    "    '''\n",
    "    Generated recommendation based on songs in aspecific playlist.\n",
    "    ---\n",
    "    Input: \n",
    "    df (pandas dataframe): spotify dataframe\n",
    "    features (pandas series): summarized playlist feature (single vector)\n",
    "    nonplaylist_features (pandas dataframe): feature set of songs that are not in the selected playlist\n",
    "        \n",
    "    Output: \n",
    "    non_playlist_df_top_40: Top 40 recommendations for that playlist\n",
    "    '''\n",
    "    \n",
    "    non_playlist_df = df[df['id'].isin(nonplaylist_features['id'].values)]\n",
    "    # Find cosine similarity between the playlist and the complete song set\n",
    "    non_playlist_df['sim'] = cosine_similarity(nonplaylist_features.drop('id', axis = 1).values, features.values.reshape(1, -1))[:,0]\n",
    "    non_playlist_df_top_40 = non_playlist_df.sort_values('sim',ascending = False).head(40)\n",
    "    \n",
    "    return non_playlist_df_top_40"
   ]
  },
  {
   "cell_type": "code",
   "execution_count": null,
   "metadata": {},
   "outputs": [],
   "source": [
    "# Genreate top 10 recommendation\n",
    "recommend = generate_playlist_recos(songDF, complete_feature_set_playlist_vector, complete_feature_set_nonplaylist)\n",
    "recommend.head(10)"
   ]
  },
  {
   "cell_type": "code",
   "execution_count": null,
   "metadata": {},
   "outputs": [],
   "source": [
    "playlistDF_test[[\"artist_name\",\"track_name\"]][:20]\n"
   ]
  }
 ],
 "metadata": {
  "interpreter": {
   "hash": "9e3cdda789d8921ed1a452da3f8580e49c9e264d5fd657bccf4be8b752e279e9"
  },
  "kernelspec": {
   "display_name": "Python (learn-env)",
   "language": "python",
   "name": "python3"
  },
  "language_info": {
   "codemirror_mode": {
    "name": "ipython",
    "version": 3
   },
   "file_extension": ".py",
   "mimetype": "text/x-python",
   "name": "python",
   "nbconvert_exporter": "python",
   "pygments_lexer": "ipython3",
   "version": "3.8.5"
  }
 },
 "nbformat": 4,
 "nbformat_minor": 4
}
